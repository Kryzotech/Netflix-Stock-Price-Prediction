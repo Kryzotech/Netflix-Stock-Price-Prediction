{
 "cells": [
  {
   "cell_type": "code",
   "execution_count": 1,
   "id": "18c08691",
   "metadata": {},
   "outputs": [
    {
     "name": "stderr",
     "output_type": "stream",
     "text": [
      "C:\\Users\\Abdur rahim nishad\\anaconda3\\lib\\site-packages\\numpy\\_distributor_init.py:30: UserWarning: loaded more than 1 DLL from .libs:\n",
      "C:\\Users\\Abdur rahim nishad\\anaconda3\\lib\\site-packages\\numpy\\.libs\\libopenblas.EL2C6PLE4ZYW3ECEVIV3OXXGRN2NRFM2.gfortran-win_amd64.dll\n",
      "C:\\Users\\Abdur rahim nishad\\anaconda3\\lib\\site-packages\\numpy\\.libs\\libopenblas64__v0.3.21-gcc_10_3_0.dll\n",
      "  warnings.warn(\"loaded more than 1 DLL from .libs:\"\n"
     ]
    }
   ],
   "source": [
    "import mysql.connector\n",
    "import pandas as pd"
   ]
  },
  {
   "cell_type": "code",
   "execution_count": 19,
   "id": "69c986cb",
   "metadata": {},
   "outputs": [
    {
     "name": "stdout",
     "output_type": "stream",
     "text": [
      "('csv_db 12',)\n",
      "('demo',)\n",
      "('ht_df_demo',)\n",
      "('information_schema',)\n",
      "('mydb',)\n",
      "('mysql',)\n",
      "('netflix',)\n",
      "('performance_schema',)\n",
      "('phpmyadmin',)\n",
      "('sql_live',)\n",
      "('test',)\n",
      "('world',)\n",
      "('zomato',)\n"
     ]
    }
   ],
   "source": [
    "data_base=conn.connect(\n",
    "host=\"localhost\",\n",
    "user=\"root\",\n",
    "password=\"\",\n",
    "    \n",
    ")\n",
    "cur=data_base.cursor()\n",
    "query='show databases'\n",
    "cur.execute(query)\n",
    "data_bases=cur.fetchall()\n",
    "for data in data_bases:\n",
    "    print(data)"
   ]
  },
  {
   "cell_type": "code",
   "execution_count": 81,
   "id": "7e00d780",
   "metadata": {},
   "outputs": [
    {
     "name": "stdout",
     "output_type": "stream",
     "text": [
      "('nflx',)\n"
     ]
    }
   ],
   "source": [
    "import mysql.connector\n",
    "import pandas as pd\n",
    "\n",
    "data_base = mysql.connector.connect(\n",
    "    host=\"localhost\",\n",
    "    user=\"root\",\n",
    "    password=\"\",\n",
    "    database=\"netflix\"\n",
    ")\n",
    "\n",
    "cur = data_base.cursor()\n",
    "\n",
    "query = 'SHOW TABLES'\n",
    "cur.execute(query)\n",
    "\n",
    "tables = cur.fetchall()\n",
    "for table in tables:\n",
    "    print(table)\n",
    "\n",
    "cur.nextset()\n",
    "\n",
    "cur = data_base.cursor()\n",
    "\n"
   ]
  },
  {
   "cell_type": "code",
   "execution_count": 82,
   "id": "40338f0b",
   "metadata": {},
   "outputs": [],
   "source": [
    "query = 'SELECT * FROM nflx'\n",
    "cur.execute(query)"
   ]
  },
  {
   "cell_type": "code",
   "execution_count": 83,
   "id": "cd3723ef",
   "metadata": {},
   "outputs": [],
   "source": [
    "df = pd.DataFrame(cur.fetchall(), columns=cur.column_names)\n"
   ]
  },
  {
   "cell_type": "code",
   "execution_count": 84,
   "id": "d2ac72ac",
   "metadata": {},
   "outputs": [
    {
     "data": {
      "text/html": [
       "<div>\n",
       "<style scoped>\n",
       "    .dataframe tbody tr th:only-of-type {\n",
       "        vertical-align: middle;\n",
       "    }\n",
       "\n",
       "    .dataframe tbody tr th {\n",
       "        vertical-align: top;\n",
       "    }\n",
       "\n",
       "    .dataframe thead th {\n",
       "        text-align: right;\n",
       "    }\n",
       "</style>\n",
       "<table border=\"1\" class=\"dataframe\">\n",
       "  <thead>\n",
       "    <tr style=\"text-align: right;\">\n",
       "      <th></th>\n",
       "      <th>COL 1</th>\n",
       "      <th>COL 2</th>\n",
       "      <th>COL 3</th>\n",
       "      <th>COL 4</th>\n",
       "      <th>COL 5</th>\n",
       "      <th>COL 6</th>\n",
       "      <th>COL 7</th>\n",
       "    </tr>\n",
       "  </thead>\n",
       "  <tbody>\n",
       "    <tr>\n",
       "      <th>0</th>\n",
       "      <td>Date</td>\n",
       "      <td>Open</td>\n",
       "      <td>High</td>\n",
       "      <td>Low</td>\n",
       "      <td>Close</td>\n",
       "      <td>Adj Close</td>\n",
       "      <td>Volume</td>\n",
       "    </tr>\n",
       "    <tr>\n",
       "      <th>1</th>\n",
       "      <td>2018-02-05</td>\n",
       "      <td>262.00000</td>\n",
       "      <td>267.89999</td>\n",
       "      <td>250.02999</td>\n",
       "      <td>254.25999</td>\n",
       "      <td>254.25999</td>\n",
       "      <td>11896100</td>\n",
       "    </tr>\n",
       "    <tr>\n",
       "      <th>2</th>\n",
       "      <td>2018-02-06</td>\n",
       "      <td>247.69999</td>\n",
       "      <td>266.70001</td>\n",
       "      <td>245.00000</td>\n",
       "      <td>265.72000</td>\n",
       "      <td>265.72000</td>\n",
       "      <td>12595800</td>\n",
       "    </tr>\n",
       "    <tr>\n",
       "      <th>3</th>\n",
       "      <td>2018-02-07</td>\n",
       "      <td>266.57998</td>\n",
       "      <td>272.45001</td>\n",
       "      <td>264.32998</td>\n",
       "      <td>264.55999</td>\n",
       "      <td>264.55999</td>\n",
       "      <td>8981500</td>\n",
       "    </tr>\n",
       "    <tr>\n",
       "      <th>4</th>\n",
       "      <td>2018-02-08</td>\n",
       "      <td>267.07998</td>\n",
       "      <td>267.61999</td>\n",
       "      <td>250.00000</td>\n",
       "      <td>250.10000</td>\n",
       "      <td>250.10000</td>\n",
       "      <td>9306700</td>\n",
       "    </tr>\n",
       "    <tr>\n",
       "      <th>...</th>\n",
       "      <td>...</td>\n",
       "      <td>...</td>\n",
       "      <td>...</td>\n",
       "      <td>...</td>\n",
       "      <td>...</td>\n",
       "      <td>...</td>\n",
       "      <td>...</td>\n",
       "    </tr>\n",
       "    <tr>\n",
       "      <th>1005</th>\n",
       "      <td>2022-01-31</td>\n",
       "      <td>401.97000</td>\n",
       "      <td>427.70001</td>\n",
       "      <td>398.20001</td>\n",
       "      <td>427.14001</td>\n",
       "      <td>427.14001</td>\n",
       "      <td>20047500</td>\n",
       "    </tr>\n",
       "    <tr>\n",
       "      <th>1006</th>\n",
       "      <td>2022-02-01</td>\n",
       "      <td>432.95999</td>\n",
       "      <td>458.48001</td>\n",
       "      <td>425.54000</td>\n",
       "      <td>457.13000</td>\n",
       "      <td>457.13000</td>\n",
       "      <td>22542300</td>\n",
       "    </tr>\n",
       "    <tr>\n",
       "      <th>1007</th>\n",
       "      <td>2022-02-02</td>\n",
       "      <td>448.25000</td>\n",
       "      <td>451.98001</td>\n",
       "      <td>426.48001</td>\n",
       "      <td>429.48001</td>\n",
       "      <td>429.48001</td>\n",
       "      <td>14346000</td>\n",
       "    </tr>\n",
       "    <tr>\n",
       "      <th>1008</th>\n",
       "      <td>2022-02-03</td>\n",
       "      <td>421.44000</td>\n",
       "      <td>429.26001</td>\n",
       "      <td>404.27999</td>\n",
       "      <td>405.60000</td>\n",
       "      <td>405.60000</td>\n",
       "      <td>9905200</td>\n",
       "    </tr>\n",
       "    <tr>\n",
       "      <th>1009</th>\n",
       "      <td>2022-02-04</td>\n",
       "      <td>407.30999</td>\n",
       "      <td>412.76998</td>\n",
       "      <td>396.64001</td>\n",
       "      <td>410.17001</td>\n",
       "      <td>410.17001</td>\n",
       "      <td>7782400</td>\n",
       "    </tr>\n",
       "  </tbody>\n",
       "</table>\n",
       "<p>1010 rows × 7 columns</p>\n",
       "</div>"
      ],
      "text/plain": [
       "           COL 1      COL 2      COL 3      COL 4      COL 5      COL 6  \\\n",
       "0           Date       Open       High        Low      Close  Adj Close   \n",
       "1     2018-02-05  262.00000  267.89999  250.02999  254.25999  254.25999   \n",
       "2     2018-02-06  247.69999  266.70001  245.00000  265.72000  265.72000   \n",
       "3     2018-02-07  266.57998  272.45001  264.32998  264.55999  264.55999   \n",
       "4     2018-02-08  267.07998  267.61999  250.00000  250.10000  250.10000   \n",
       "...          ...        ...        ...        ...        ...        ...   \n",
       "1005  2022-01-31  401.97000  427.70001  398.20001  427.14001  427.14001   \n",
       "1006  2022-02-01  432.95999  458.48001  425.54000  457.13000  457.13000   \n",
       "1007  2022-02-02  448.25000  451.98001  426.48001  429.48001  429.48001   \n",
       "1008  2022-02-03  421.44000  429.26001  404.27999  405.60000  405.60000   \n",
       "1009  2022-02-04  407.30999  412.76998  396.64001  410.17001  410.17001   \n",
       "\n",
       "         COL 7  \n",
       "0       Volume  \n",
       "1     11896100  \n",
       "2     12595800  \n",
       "3      8981500  \n",
       "4      9306700  \n",
       "...        ...  \n",
       "1005  20047500  \n",
       "1006  22542300  \n",
       "1007  14346000  \n",
       "1008   9905200  \n",
       "1009   7782400  \n",
       "\n",
       "[1010 rows x 7 columns]"
      ]
     },
     "execution_count": 84,
     "metadata": {},
     "output_type": "execute_result"
    }
   ],
   "source": [
    "df"
   ]
  },
  {
   "cell_type": "code",
   "execution_count": 85,
   "id": "78e39eeb",
   "metadata": {},
   "outputs": [],
   "source": [
    "df = df.iloc[1:]"
   ]
  },
  {
   "cell_type": "code",
   "execution_count": 86,
   "id": "930c4864",
   "metadata": {},
   "outputs": [],
   "source": [
    "df = df.reset_index(drop=True)\n",
    "df.columns = [\"Date\", \"Open\", \"High\", \"Low\", \"Close\", \"Adj Close\", \"Volume\"]\n"
   ]
  },
  {
   "cell_type": "code",
   "execution_count": 87,
   "id": "dd6c57bd",
   "metadata": {},
   "outputs": [
    {
     "data": {
      "text/html": [
       "<div>\n",
       "<style scoped>\n",
       "    .dataframe tbody tr th:only-of-type {\n",
       "        vertical-align: middle;\n",
       "    }\n",
       "\n",
       "    .dataframe tbody tr th {\n",
       "        vertical-align: top;\n",
       "    }\n",
       "\n",
       "    .dataframe thead th {\n",
       "        text-align: right;\n",
       "    }\n",
       "</style>\n",
       "<table border=\"1\" class=\"dataframe\">\n",
       "  <thead>\n",
       "    <tr style=\"text-align: right;\">\n",
       "      <th></th>\n",
       "      <th>Date</th>\n",
       "      <th>Open</th>\n",
       "      <th>High</th>\n",
       "      <th>Low</th>\n",
       "      <th>Close</th>\n",
       "      <th>Adj Close</th>\n",
       "      <th>Volume</th>\n",
       "    </tr>\n",
       "  </thead>\n",
       "  <tbody>\n",
       "    <tr>\n",
       "      <th>0</th>\n",
       "      <td>2018-02-05</td>\n",
       "      <td>262.00000</td>\n",
       "      <td>267.89999</td>\n",
       "      <td>250.02999</td>\n",
       "      <td>254.25999</td>\n",
       "      <td>254.25999</td>\n",
       "      <td>11896100</td>\n",
       "    </tr>\n",
       "    <tr>\n",
       "      <th>1</th>\n",
       "      <td>2018-02-06</td>\n",
       "      <td>247.69999</td>\n",
       "      <td>266.70001</td>\n",
       "      <td>245.00000</td>\n",
       "      <td>265.72000</td>\n",
       "      <td>265.72000</td>\n",
       "      <td>12595800</td>\n",
       "    </tr>\n",
       "    <tr>\n",
       "      <th>2</th>\n",
       "      <td>2018-02-07</td>\n",
       "      <td>266.57998</td>\n",
       "      <td>272.45001</td>\n",
       "      <td>264.32998</td>\n",
       "      <td>264.55999</td>\n",
       "      <td>264.55999</td>\n",
       "      <td>8981500</td>\n",
       "    </tr>\n",
       "    <tr>\n",
       "      <th>3</th>\n",
       "      <td>2018-02-08</td>\n",
       "      <td>267.07998</td>\n",
       "      <td>267.61999</td>\n",
       "      <td>250.00000</td>\n",
       "      <td>250.10000</td>\n",
       "      <td>250.10000</td>\n",
       "      <td>9306700</td>\n",
       "    </tr>\n",
       "    <tr>\n",
       "      <th>4</th>\n",
       "      <td>2018-02-09</td>\n",
       "      <td>253.85000</td>\n",
       "      <td>255.80000</td>\n",
       "      <td>236.11000</td>\n",
       "      <td>249.47000</td>\n",
       "      <td>249.47000</td>\n",
       "      <td>16906900</td>\n",
       "    </tr>\n",
       "    <tr>\n",
       "      <th>...</th>\n",
       "      <td>...</td>\n",
       "      <td>...</td>\n",
       "      <td>...</td>\n",
       "      <td>...</td>\n",
       "      <td>...</td>\n",
       "      <td>...</td>\n",
       "      <td>...</td>\n",
       "    </tr>\n",
       "    <tr>\n",
       "      <th>1004</th>\n",
       "      <td>2022-01-31</td>\n",
       "      <td>401.97000</td>\n",
       "      <td>427.70001</td>\n",
       "      <td>398.20001</td>\n",
       "      <td>427.14001</td>\n",
       "      <td>427.14001</td>\n",
       "      <td>20047500</td>\n",
       "    </tr>\n",
       "    <tr>\n",
       "      <th>1005</th>\n",
       "      <td>2022-02-01</td>\n",
       "      <td>432.95999</td>\n",
       "      <td>458.48001</td>\n",
       "      <td>425.54000</td>\n",
       "      <td>457.13000</td>\n",
       "      <td>457.13000</td>\n",
       "      <td>22542300</td>\n",
       "    </tr>\n",
       "    <tr>\n",
       "      <th>1006</th>\n",
       "      <td>2022-02-02</td>\n",
       "      <td>448.25000</td>\n",
       "      <td>451.98001</td>\n",
       "      <td>426.48001</td>\n",
       "      <td>429.48001</td>\n",
       "      <td>429.48001</td>\n",
       "      <td>14346000</td>\n",
       "    </tr>\n",
       "    <tr>\n",
       "      <th>1007</th>\n",
       "      <td>2022-02-03</td>\n",
       "      <td>421.44000</td>\n",
       "      <td>429.26001</td>\n",
       "      <td>404.27999</td>\n",
       "      <td>405.60000</td>\n",
       "      <td>405.60000</td>\n",
       "      <td>9905200</td>\n",
       "    </tr>\n",
       "    <tr>\n",
       "      <th>1008</th>\n",
       "      <td>2022-02-04</td>\n",
       "      <td>407.30999</td>\n",
       "      <td>412.76998</td>\n",
       "      <td>396.64001</td>\n",
       "      <td>410.17001</td>\n",
       "      <td>410.17001</td>\n",
       "      <td>7782400</td>\n",
       "    </tr>\n",
       "  </tbody>\n",
       "</table>\n",
       "<p>1009 rows × 7 columns</p>\n",
       "</div>"
      ],
      "text/plain": [
       "            Date       Open       High        Low      Close  Adj Close  \\\n",
       "0     2018-02-05  262.00000  267.89999  250.02999  254.25999  254.25999   \n",
       "1     2018-02-06  247.69999  266.70001  245.00000  265.72000  265.72000   \n",
       "2     2018-02-07  266.57998  272.45001  264.32998  264.55999  264.55999   \n",
       "3     2018-02-08  267.07998  267.61999  250.00000  250.10000  250.10000   \n",
       "4     2018-02-09  253.85000  255.80000  236.11000  249.47000  249.47000   \n",
       "...          ...        ...        ...        ...        ...        ...   \n",
       "1004  2022-01-31  401.97000  427.70001  398.20001  427.14001  427.14001   \n",
       "1005  2022-02-01  432.95999  458.48001  425.54000  457.13000  457.13000   \n",
       "1006  2022-02-02  448.25000  451.98001  426.48001  429.48001  429.48001   \n",
       "1007  2022-02-03  421.44000  429.26001  404.27999  405.60000  405.60000   \n",
       "1008  2022-02-04  407.30999  412.76998  396.64001  410.17001  410.17001   \n",
       "\n",
       "        Volume  \n",
       "0     11896100  \n",
       "1     12595800  \n",
       "2      8981500  \n",
       "3      9306700  \n",
       "4     16906900  \n",
       "...        ...  \n",
       "1004  20047500  \n",
       "1005  22542300  \n",
       "1006  14346000  \n",
       "1007   9905200  \n",
       "1008   7782400  \n",
       "\n",
       "[1009 rows x 7 columns]"
      ]
     },
     "execution_count": 87,
     "metadata": {},
     "output_type": "execute_result"
    }
   ],
   "source": [
    "df"
   ]
  },
  {
   "cell_type": "code",
   "execution_count": 88,
   "id": "fbae3882",
   "metadata": {},
   "outputs": [
    {
     "data": {
      "text/plain": [
       "(1009, 7)"
      ]
     },
     "execution_count": 88,
     "metadata": {},
     "output_type": "execute_result"
    }
   ],
   "source": [
    "df.shape"
   ]
  },
  {
   "cell_type": "code",
   "execution_count": 89,
   "id": "a5408837",
   "metadata": {},
   "outputs": [
    {
     "data": {
      "text/plain": [
       "Date         0\n",
       "Open         0\n",
       "High         0\n",
       "Low          0\n",
       "Close        0\n",
       "Adj Close    0\n",
       "Volume       0\n",
       "dtype: int64"
      ]
     },
     "execution_count": 89,
     "metadata": {},
     "output_type": "execute_result"
    }
   ],
   "source": [
    "df.isna().sum()"
   ]
  },
  {
   "cell_type": "code",
   "execution_count": 90,
   "id": "e13c8557",
   "metadata": {},
   "outputs": [
    {
     "data": {
      "text/plain": [
       "dtype('O')"
      ]
     },
     "execution_count": 90,
     "metadata": {},
     "output_type": "execute_result"
    }
   ],
   "source": [
    "df['Date'].dtype"
   ]
  },
  {
   "cell_type": "code",
   "execution_count": 91,
   "id": "e207896f",
   "metadata": {},
   "outputs": [],
   "source": [
    "df['Date']=pd.to_datetime(df['Date'])"
   ]
  },
  {
   "cell_type": "code",
   "execution_count": 92,
   "id": "77e46510",
   "metadata": {},
   "outputs": [
    {
     "data": {
      "text/plain": [
       "0      2018-02-05\n",
       "1      2018-02-06\n",
       "2      2018-02-07\n",
       "3      2018-02-08\n",
       "4      2018-02-09\n",
       "          ...    \n",
       "1004   2022-01-31\n",
       "1005   2022-02-01\n",
       "1006   2022-02-02\n",
       "1007   2022-02-03\n",
       "1008   2022-02-04\n",
       "Name: Date, Length: 1009, dtype: datetime64[ns]"
      ]
     },
     "execution_count": 92,
     "metadata": {},
     "output_type": "execute_result"
    }
   ],
   "source": [
    "df.Date"
   ]
  },
  {
   "cell_type": "code",
   "execution_count": 93,
   "id": "b6ecc65d",
   "metadata": {},
   "outputs": [],
   "source": [
    "df['Year']=df['Date'].dt.year\n",
    "df['Month']=df['Date'].dt.month\n",
    "df['Day']=df['Date'].dt.day"
   ]
  },
  {
   "cell_type": "code",
   "execution_count": 94,
   "id": "73bfbdd0",
   "metadata": {},
   "outputs": [
    {
     "data": {
      "text/html": [
       "<div>\n",
       "<style scoped>\n",
       "    .dataframe tbody tr th:only-of-type {\n",
       "        vertical-align: middle;\n",
       "    }\n",
       "\n",
       "    .dataframe tbody tr th {\n",
       "        vertical-align: top;\n",
       "    }\n",
       "\n",
       "    .dataframe thead th {\n",
       "        text-align: right;\n",
       "    }\n",
       "</style>\n",
       "<table border=\"1\" class=\"dataframe\">\n",
       "  <thead>\n",
       "    <tr style=\"text-align: right;\">\n",
       "      <th></th>\n",
       "      <th>Date</th>\n",
       "      <th>Open</th>\n",
       "      <th>High</th>\n",
       "      <th>Low</th>\n",
       "      <th>Close</th>\n",
       "      <th>Adj Close</th>\n",
       "      <th>Volume</th>\n",
       "      <th>Year</th>\n",
       "      <th>Month</th>\n",
       "      <th>Day</th>\n",
       "    </tr>\n",
       "  </thead>\n",
       "  <tbody>\n",
       "    <tr>\n",
       "      <th>0</th>\n",
       "      <td>2018-02-05</td>\n",
       "      <td>262.00000</td>\n",
       "      <td>267.89999</td>\n",
       "      <td>250.02999</td>\n",
       "      <td>254.25999</td>\n",
       "      <td>254.25999</td>\n",
       "      <td>11896100</td>\n",
       "      <td>2018</td>\n",
       "      <td>2</td>\n",
       "      <td>5</td>\n",
       "    </tr>\n",
       "    <tr>\n",
       "      <th>1</th>\n",
       "      <td>2018-02-06</td>\n",
       "      <td>247.69999</td>\n",
       "      <td>266.70001</td>\n",
       "      <td>245.00000</td>\n",
       "      <td>265.72000</td>\n",
       "      <td>265.72000</td>\n",
       "      <td>12595800</td>\n",
       "      <td>2018</td>\n",
       "      <td>2</td>\n",
       "      <td>6</td>\n",
       "    </tr>\n",
       "    <tr>\n",
       "      <th>2</th>\n",
       "      <td>2018-02-07</td>\n",
       "      <td>266.57998</td>\n",
       "      <td>272.45001</td>\n",
       "      <td>264.32998</td>\n",
       "      <td>264.55999</td>\n",
       "      <td>264.55999</td>\n",
       "      <td>8981500</td>\n",
       "      <td>2018</td>\n",
       "      <td>2</td>\n",
       "      <td>7</td>\n",
       "    </tr>\n",
       "    <tr>\n",
       "      <th>3</th>\n",
       "      <td>2018-02-08</td>\n",
       "      <td>267.07998</td>\n",
       "      <td>267.61999</td>\n",
       "      <td>250.00000</td>\n",
       "      <td>250.10000</td>\n",
       "      <td>250.10000</td>\n",
       "      <td>9306700</td>\n",
       "      <td>2018</td>\n",
       "      <td>2</td>\n",
       "      <td>8</td>\n",
       "    </tr>\n",
       "    <tr>\n",
       "      <th>4</th>\n",
       "      <td>2018-02-09</td>\n",
       "      <td>253.85000</td>\n",
       "      <td>255.80000</td>\n",
       "      <td>236.11000</td>\n",
       "      <td>249.47000</td>\n",
       "      <td>249.47000</td>\n",
       "      <td>16906900</td>\n",
       "      <td>2018</td>\n",
       "      <td>2</td>\n",
       "      <td>9</td>\n",
       "    </tr>\n",
       "    <tr>\n",
       "      <th>...</th>\n",
       "      <td>...</td>\n",
       "      <td>...</td>\n",
       "      <td>...</td>\n",
       "      <td>...</td>\n",
       "      <td>...</td>\n",
       "      <td>...</td>\n",
       "      <td>...</td>\n",
       "      <td>...</td>\n",
       "      <td>...</td>\n",
       "      <td>...</td>\n",
       "    </tr>\n",
       "    <tr>\n",
       "      <th>1004</th>\n",
       "      <td>2022-01-31</td>\n",
       "      <td>401.97000</td>\n",
       "      <td>427.70001</td>\n",
       "      <td>398.20001</td>\n",
       "      <td>427.14001</td>\n",
       "      <td>427.14001</td>\n",
       "      <td>20047500</td>\n",
       "      <td>2022</td>\n",
       "      <td>1</td>\n",
       "      <td>31</td>\n",
       "    </tr>\n",
       "    <tr>\n",
       "      <th>1005</th>\n",
       "      <td>2022-02-01</td>\n",
       "      <td>432.95999</td>\n",
       "      <td>458.48001</td>\n",
       "      <td>425.54000</td>\n",
       "      <td>457.13000</td>\n",
       "      <td>457.13000</td>\n",
       "      <td>22542300</td>\n",
       "      <td>2022</td>\n",
       "      <td>2</td>\n",
       "      <td>1</td>\n",
       "    </tr>\n",
       "    <tr>\n",
       "      <th>1006</th>\n",
       "      <td>2022-02-02</td>\n",
       "      <td>448.25000</td>\n",
       "      <td>451.98001</td>\n",
       "      <td>426.48001</td>\n",
       "      <td>429.48001</td>\n",
       "      <td>429.48001</td>\n",
       "      <td>14346000</td>\n",
       "      <td>2022</td>\n",
       "      <td>2</td>\n",
       "      <td>2</td>\n",
       "    </tr>\n",
       "    <tr>\n",
       "      <th>1007</th>\n",
       "      <td>2022-02-03</td>\n",
       "      <td>421.44000</td>\n",
       "      <td>429.26001</td>\n",
       "      <td>404.27999</td>\n",
       "      <td>405.60000</td>\n",
       "      <td>405.60000</td>\n",
       "      <td>9905200</td>\n",
       "      <td>2022</td>\n",
       "      <td>2</td>\n",
       "      <td>3</td>\n",
       "    </tr>\n",
       "    <tr>\n",
       "      <th>1008</th>\n",
       "      <td>2022-02-04</td>\n",
       "      <td>407.30999</td>\n",
       "      <td>412.76998</td>\n",
       "      <td>396.64001</td>\n",
       "      <td>410.17001</td>\n",
       "      <td>410.17001</td>\n",
       "      <td>7782400</td>\n",
       "      <td>2022</td>\n",
       "      <td>2</td>\n",
       "      <td>4</td>\n",
       "    </tr>\n",
       "  </tbody>\n",
       "</table>\n",
       "<p>1009 rows × 10 columns</p>\n",
       "</div>"
      ],
      "text/plain": [
       "           Date       Open       High        Low      Close  Adj Close  \\\n",
       "0    2018-02-05  262.00000  267.89999  250.02999  254.25999  254.25999   \n",
       "1    2018-02-06  247.69999  266.70001  245.00000  265.72000  265.72000   \n",
       "2    2018-02-07  266.57998  272.45001  264.32998  264.55999  264.55999   \n",
       "3    2018-02-08  267.07998  267.61999  250.00000  250.10000  250.10000   \n",
       "4    2018-02-09  253.85000  255.80000  236.11000  249.47000  249.47000   \n",
       "...         ...        ...        ...        ...        ...        ...   \n",
       "1004 2022-01-31  401.97000  427.70001  398.20001  427.14001  427.14001   \n",
       "1005 2022-02-01  432.95999  458.48001  425.54000  457.13000  457.13000   \n",
       "1006 2022-02-02  448.25000  451.98001  426.48001  429.48001  429.48001   \n",
       "1007 2022-02-03  421.44000  429.26001  404.27999  405.60000  405.60000   \n",
       "1008 2022-02-04  407.30999  412.76998  396.64001  410.17001  410.17001   \n",
       "\n",
       "        Volume  Year  Month  Day  \n",
       "0     11896100  2018      2    5  \n",
       "1     12595800  2018      2    6  \n",
       "2      8981500  2018      2    7  \n",
       "3      9306700  2018      2    8  \n",
       "4     16906900  2018      2    9  \n",
       "...        ...   ...    ...  ...  \n",
       "1004  20047500  2022      1   31  \n",
       "1005  22542300  2022      2    1  \n",
       "1006  14346000  2022      2    2  \n",
       "1007   9905200  2022      2    3  \n",
       "1008   7782400  2022      2    4  \n",
       "\n",
       "[1009 rows x 10 columns]"
      ]
     },
     "execution_count": 94,
     "metadata": {},
     "output_type": "execute_result"
    }
   ],
   "source": [
    "df"
   ]
  },
  {
   "cell_type": "code",
   "execution_count": 95,
   "id": "8a4fa73b",
   "metadata": {},
   "outputs": [],
   "source": [
    "df=df.drop(\"Date\",axis=1)"
   ]
  },
  {
   "cell_type": "code",
   "execution_count": 80,
   "id": "cb97e132",
   "metadata": {},
   "outputs": [
    {
     "data": {
      "text/html": [
       "<div>\n",
       "<style scoped>\n",
       "    .dataframe tbody tr th:only-of-type {\n",
       "        vertical-align: middle;\n",
       "    }\n",
       "\n",
       "    .dataframe tbody tr th {\n",
       "        vertical-align: top;\n",
       "    }\n",
       "\n",
       "    .dataframe thead th {\n",
       "        text-align: right;\n",
       "    }\n",
       "</style>\n",
       "<table border=\"1\" class=\"dataframe\">\n",
       "  <thead>\n",
       "    <tr style=\"text-align: right;\">\n",
       "      <th></th>\n",
       "      <th>Open</th>\n",
       "      <th>High</th>\n",
       "      <th>Low</th>\n",
       "      <th>Close</th>\n",
       "      <th>Adj Close</th>\n",
       "      <th>Volume</th>\n",
       "      <th>Year</th>\n",
       "      <th>Month</th>\n",
       "      <th>Day</th>\n",
       "    </tr>\n",
       "  </thead>\n",
       "  <tbody>\n",
       "    <tr>\n",
       "      <th>0</th>\n",
       "      <td>262.00000</td>\n",
       "      <td>267.89999</td>\n",
       "      <td>250.02999</td>\n",
       "      <td>254.25999</td>\n",
       "      <td>254.25999</td>\n",
       "      <td>11896100</td>\n",
       "      <td>2018</td>\n",
       "      <td>2</td>\n",
       "      <td>5</td>\n",
       "    </tr>\n",
       "    <tr>\n",
       "      <th>1</th>\n",
       "      <td>247.69999</td>\n",
       "      <td>266.70001</td>\n",
       "      <td>245.00000</td>\n",
       "      <td>265.72000</td>\n",
       "      <td>265.72000</td>\n",
       "      <td>12595800</td>\n",
       "      <td>2018</td>\n",
       "      <td>2</td>\n",
       "      <td>6</td>\n",
       "    </tr>\n",
       "    <tr>\n",
       "      <th>2</th>\n",
       "      <td>266.57998</td>\n",
       "      <td>272.45001</td>\n",
       "      <td>264.32998</td>\n",
       "      <td>264.55999</td>\n",
       "      <td>264.55999</td>\n",
       "      <td>8981500</td>\n",
       "      <td>2018</td>\n",
       "      <td>2</td>\n",
       "      <td>7</td>\n",
       "    </tr>\n",
       "    <tr>\n",
       "      <th>3</th>\n",
       "      <td>267.07998</td>\n",
       "      <td>267.61999</td>\n",
       "      <td>250.00000</td>\n",
       "      <td>250.10000</td>\n",
       "      <td>250.10000</td>\n",
       "      <td>9306700</td>\n",
       "      <td>2018</td>\n",
       "      <td>2</td>\n",
       "      <td>8</td>\n",
       "    </tr>\n",
       "    <tr>\n",
       "      <th>4</th>\n",
       "      <td>253.85000</td>\n",
       "      <td>255.80000</td>\n",
       "      <td>236.11000</td>\n",
       "      <td>249.47000</td>\n",
       "      <td>249.47000</td>\n",
       "      <td>16906900</td>\n",
       "      <td>2018</td>\n",
       "      <td>2</td>\n",
       "      <td>9</td>\n",
       "    </tr>\n",
       "    <tr>\n",
       "      <th>...</th>\n",
       "      <td>...</td>\n",
       "      <td>...</td>\n",
       "      <td>...</td>\n",
       "      <td>...</td>\n",
       "      <td>...</td>\n",
       "      <td>...</td>\n",
       "      <td>...</td>\n",
       "      <td>...</td>\n",
       "      <td>...</td>\n",
       "    </tr>\n",
       "    <tr>\n",
       "      <th>1004</th>\n",
       "      <td>401.97000</td>\n",
       "      <td>427.70001</td>\n",
       "      <td>398.20001</td>\n",
       "      <td>427.14001</td>\n",
       "      <td>427.14001</td>\n",
       "      <td>20047500</td>\n",
       "      <td>2022</td>\n",
       "      <td>1</td>\n",
       "      <td>31</td>\n",
       "    </tr>\n",
       "    <tr>\n",
       "      <th>1005</th>\n",
       "      <td>432.95999</td>\n",
       "      <td>458.48001</td>\n",
       "      <td>425.54000</td>\n",
       "      <td>457.13000</td>\n",
       "      <td>457.13000</td>\n",
       "      <td>22542300</td>\n",
       "      <td>2022</td>\n",
       "      <td>2</td>\n",
       "      <td>1</td>\n",
       "    </tr>\n",
       "    <tr>\n",
       "      <th>1006</th>\n",
       "      <td>448.25000</td>\n",
       "      <td>451.98001</td>\n",
       "      <td>426.48001</td>\n",
       "      <td>429.48001</td>\n",
       "      <td>429.48001</td>\n",
       "      <td>14346000</td>\n",
       "      <td>2022</td>\n",
       "      <td>2</td>\n",
       "      <td>2</td>\n",
       "    </tr>\n",
       "    <tr>\n",
       "      <th>1007</th>\n",
       "      <td>421.44000</td>\n",
       "      <td>429.26001</td>\n",
       "      <td>404.27999</td>\n",
       "      <td>405.60000</td>\n",
       "      <td>405.60000</td>\n",
       "      <td>9905200</td>\n",
       "      <td>2022</td>\n",
       "      <td>2</td>\n",
       "      <td>3</td>\n",
       "    </tr>\n",
       "    <tr>\n",
       "      <th>1008</th>\n",
       "      <td>407.30999</td>\n",
       "      <td>412.76998</td>\n",
       "      <td>396.64001</td>\n",
       "      <td>410.17001</td>\n",
       "      <td>410.17001</td>\n",
       "      <td>7782400</td>\n",
       "      <td>2022</td>\n",
       "      <td>2</td>\n",
       "      <td>4</td>\n",
       "    </tr>\n",
       "  </tbody>\n",
       "</table>\n",
       "<p>1009 rows × 9 columns</p>\n",
       "</div>"
      ],
      "text/plain": [
       "           Open       High        Low      Close  Adj Close    Volume  Year  \\\n",
       "0     262.00000  267.89999  250.02999  254.25999  254.25999  11896100  2018   \n",
       "1     247.69999  266.70001  245.00000  265.72000  265.72000  12595800  2018   \n",
       "2     266.57998  272.45001  264.32998  264.55999  264.55999   8981500  2018   \n",
       "3     267.07998  267.61999  250.00000  250.10000  250.10000   9306700  2018   \n",
       "4     253.85000  255.80000  236.11000  249.47000  249.47000  16906900  2018   \n",
       "...         ...        ...        ...        ...        ...       ...   ...   \n",
       "1004  401.97000  427.70001  398.20001  427.14001  427.14001  20047500  2022   \n",
       "1005  432.95999  458.48001  425.54000  457.13000  457.13000  22542300  2022   \n",
       "1006  448.25000  451.98001  426.48001  429.48001  429.48001  14346000  2022   \n",
       "1007  421.44000  429.26001  404.27999  405.60000  405.60000   9905200  2022   \n",
       "1008  407.30999  412.76998  396.64001  410.17001  410.17001   7782400  2022   \n",
       "\n",
       "      Month  Day  \n",
       "0         2    5  \n",
       "1         2    6  \n",
       "2         2    7  \n",
       "3         2    8  \n",
       "4         2    9  \n",
       "...     ...  ...  \n",
       "1004      1   31  \n",
       "1005      2    1  \n",
       "1006      2    2  \n",
       "1007      2    3  \n",
       "1008      2    4  \n",
       "\n",
       "[1009 rows x 9 columns]"
      ]
     },
     "execution_count": 80,
     "metadata": {},
     "output_type": "execute_result"
    }
   ],
   "source": [
    "df"
   ]
  },
  {
   "cell_type": "code",
   "execution_count": 96,
   "id": "9e70743d",
   "metadata": {},
   "outputs": [
    {
     "data": {
      "text/plain": [
       "Open         0\n",
       "High         0\n",
       "Low          0\n",
       "Close        0\n",
       "Adj Close    0\n",
       "Volume       0\n",
       "Year         0\n",
       "Month        0\n",
       "Day          0\n",
       "dtype: int64"
      ]
     },
     "execution_count": 96,
     "metadata": {},
     "output_type": "execute_result"
    }
   ],
   "source": [
    "df.isna().sum()"
   ]
  },
  {
   "cell_type": "code",
   "execution_count": 98,
   "id": "2e6ffebb",
   "metadata": {},
   "outputs": [
    {
     "data": {
      "text/plain": [
       "0"
      ]
     },
     "execution_count": 98,
     "metadata": {},
     "output_type": "execute_result"
    }
   ],
   "source": [
    "df.duplicated().sum()"
   ]
  },
  {
   "cell_type": "code",
   "execution_count": 99,
   "id": "faee166f",
   "metadata": {},
   "outputs": [
    {
     "name": "stdout",
     "output_type": "stream",
     "text": [
      "<class 'pandas.core.frame.DataFrame'>\n",
      "RangeIndex: 1009 entries, 0 to 1008\n",
      "Data columns (total 9 columns):\n",
      " #   Column     Non-Null Count  Dtype \n",
      "---  ------     --------------  ----- \n",
      " 0   Open       1009 non-null   object\n",
      " 1   High       1009 non-null   object\n",
      " 2   Low        1009 non-null   object\n",
      " 3   Close      1009 non-null   object\n",
      " 4   Adj Close  1009 non-null   object\n",
      " 5   Volume     1009 non-null   object\n",
      " 6   Year       1009 non-null   int64 \n",
      " 7   Month      1009 non-null   int64 \n",
      " 8   Day        1009 non-null   int64 \n",
      "dtypes: int64(3), object(6)\n",
      "memory usage: 71.1+ KB\n"
     ]
    }
   ],
   "source": [
    "df.info()"
   ]
  },
  {
   "cell_type": "code",
   "execution_count": 103,
   "id": "6dbaa4ed",
   "metadata": {},
   "outputs": [],
   "source": [
    "df['Open']=df['Open'].astype(\"float64\")\n",
    "df['High']=df['High'].astype(\"float64\")\n",
    "df['Low']=df['Low'].astype(\"float64\")\n",
    "df['Close']=df['Close'].astype(\"float64\")\n",
    "df['Adj Close']=df['Adj Close'].astype(\"float64\")\n",
    "df['Volume']=df['Volume'].astype(\"int64\")"
   ]
  },
  {
   "cell_type": "code",
   "execution_count": 104,
   "id": "88140902",
   "metadata": {},
   "outputs": [
    {
     "data": {
      "text/html": [
       "<div>\n",
       "<style scoped>\n",
       "    .dataframe tbody tr th:only-of-type {\n",
       "        vertical-align: middle;\n",
       "    }\n",
       "\n",
       "    .dataframe tbody tr th {\n",
       "        vertical-align: top;\n",
       "    }\n",
       "\n",
       "    .dataframe thead th {\n",
       "        text-align: right;\n",
       "    }\n",
       "</style>\n",
       "<table border=\"1\" class=\"dataframe\">\n",
       "  <thead>\n",
       "    <tr style=\"text-align: right;\">\n",
       "      <th></th>\n",
       "      <th>Open</th>\n",
       "      <th>High</th>\n",
       "      <th>Low</th>\n",
       "      <th>Close</th>\n",
       "      <th>Adj Close</th>\n",
       "      <th>Volume</th>\n",
       "      <th>Year</th>\n",
       "      <th>Month</th>\n",
       "      <th>Day</th>\n",
       "    </tr>\n",
       "  </thead>\n",
       "  <tbody>\n",
       "    <tr>\n",
       "      <th>count</th>\n",
       "      <td>1009.000000</td>\n",
       "      <td>1009.000000</td>\n",
       "      <td>1009.000000</td>\n",
       "      <td>1009.000000</td>\n",
       "      <td>1009.000000</td>\n",
       "      <td>1.009000e+03</td>\n",
       "      <td>1009.000000</td>\n",
       "      <td>1009.000000</td>\n",
       "      <td>1009.000000</td>\n",
       "    </tr>\n",
       "    <tr>\n",
       "      <th>mean</th>\n",
       "      <td>419.059669</td>\n",
       "      <td>425.320699</td>\n",
       "      <td>412.374040</td>\n",
       "      <td>419.000728</td>\n",
       "      <td>419.000728</td>\n",
       "      <td>7.570685e+06</td>\n",
       "      <td>2019.595639</td>\n",
       "      <td>6.540139</td>\n",
       "      <td>15.717542</td>\n",
       "    </tr>\n",
       "    <tr>\n",
       "      <th>std</th>\n",
       "      <td>108.537532</td>\n",
       "      <td>109.262960</td>\n",
       "      <td>107.555868</td>\n",
       "      <td>108.289999</td>\n",
       "      <td>108.289999</td>\n",
       "      <td>5.465535e+06</td>\n",
       "      <td>1.155997</td>\n",
       "      <td>3.428207</td>\n",
       "      <td>8.759264</td>\n",
       "    </tr>\n",
       "    <tr>\n",
       "      <th>min</th>\n",
       "      <td>233.919990</td>\n",
       "      <td>250.649990</td>\n",
       "      <td>231.229990</td>\n",
       "      <td>233.880000</td>\n",
       "      <td>233.880000</td>\n",
       "      <td>1.144000e+06</td>\n",
       "      <td>2018.000000</td>\n",
       "      <td>1.000000</td>\n",
       "      <td>1.000000</td>\n",
       "    </tr>\n",
       "    <tr>\n",
       "      <th>25%</th>\n",
       "      <td>331.489990</td>\n",
       "      <td>336.299980</td>\n",
       "      <td>326.000000</td>\n",
       "      <td>331.619990</td>\n",
       "      <td>331.619990</td>\n",
       "      <td>4.091900e+06</td>\n",
       "      <td>2019.000000</td>\n",
       "      <td>4.000000</td>\n",
       "      <td>8.000000</td>\n",
       "    </tr>\n",
       "    <tr>\n",
       "      <th>50%</th>\n",
       "      <td>377.769980</td>\n",
       "      <td>383.010010</td>\n",
       "      <td>370.880000</td>\n",
       "      <td>378.670010</td>\n",
       "      <td>378.670010</td>\n",
       "      <td>5.934500e+06</td>\n",
       "      <td>2020.000000</td>\n",
       "      <td>7.000000</td>\n",
       "      <td>16.000000</td>\n",
       "    </tr>\n",
       "    <tr>\n",
       "      <th>75%</th>\n",
       "      <td>509.130000</td>\n",
       "      <td>515.630000</td>\n",
       "      <td>502.529990</td>\n",
       "      <td>509.079980</td>\n",
       "      <td>509.079980</td>\n",
       "      <td>9.322400e+06</td>\n",
       "      <td>2021.000000</td>\n",
       "      <td>10.000000</td>\n",
       "      <td>23.000000</td>\n",
       "    </tr>\n",
       "    <tr>\n",
       "      <th>max</th>\n",
       "      <td>692.349970</td>\n",
       "      <td>700.989990</td>\n",
       "      <td>686.090020</td>\n",
       "      <td>691.690000</td>\n",
       "      <td>691.690000</td>\n",
       "      <td>5.890430e+07</td>\n",
       "      <td>2022.000000</td>\n",
       "      <td>12.000000</td>\n",
       "      <td>31.000000</td>\n",
       "    </tr>\n",
       "  </tbody>\n",
       "</table>\n",
       "</div>"
      ],
      "text/plain": [
       "              Open         High          Low        Close    Adj Close  \\\n",
       "count  1009.000000  1009.000000  1009.000000  1009.000000  1009.000000   \n",
       "mean    419.059669   425.320699   412.374040   419.000728   419.000728   \n",
       "std     108.537532   109.262960   107.555868   108.289999   108.289999   \n",
       "min     233.919990   250.649990   231.229990   233.880000   233.880000   \n",
       "25%     331.489990   336.299980   326.000000   331.619990   331.619990   \n",
       "50%     377.769980   383.010010   370.880000   378.670010   378.670010   \n",
       "75%     509.130000   515.630000   502.529990   509.079980   509.079980   \n",
       "max     692.349970   700.989990   686.090020   691.690000   691.690000   \n",
       "\n",
       "             Volume         Year        Month          Day  \n",
       "count  1.009000e+03  1009.000000  1009.000000  1009.000000  \n",
       "mean   7.570685e+06  2019.595639     6.540139    15.717542  \n",
       "std    5.465535e+06     1.155997     3.428207     8.759264  \n",
       "min    1.144000e+06  2018.000000     1.000000     1.000000  \n",
       "25%    4.091900e+06  2019.000000     4.000000     8.000000  \n",
       "50%    5.934500e+06  2020.000000     7.000000    16.000000  \n",
       "75%    9.322400e+06  2021.000000    10.000000    23.000000  \n",
       "max    5.890430e+07  2022.000000    12.000000    31.000000  "
      ]
     },
     "execution_count": 104,
     "metadata": {},
     "output_type": "execute_result"
    }
   ],
   "source": [
    "df.describe()"
   ]
  },
  {
   "cell_type": "code",
   "execution_count": 105,
   "id": "d4d62a5e",
   "metadata": {},
   "outputs": [
    {
     "name": "stdout",
     "output_type": "stream",
     "text": [
      "<class 'pandas.core.frame.DataFrame'>\n",
      "RangeIndex: 1009 entries, 0 to 1008\n",
      "Data columns (total 9 columns):\n",
      " #   Column     Non-Null Count  Dtype  \n",
      "---  ------     --------------  -----  \n",
      " 0   Open       1009 non-null   float64\n",
      " 1   High       1009 non-null   float64\n",
      " 2   Low        1009 non-null   float64\n",
      " 3   Close      1009 non-null   float64\n",
      " 4   Adj Close  1009 non-null   float64\n",
      " 5   Volume     1009 non-null   int64  \n",
      " 6   Year       1009 non-null   int64  \n",
      " 7   Month      1009 non-null   int64  \n",
      " 8   Day        1009 non-null   int64  \n",
      "dtypes: float64(5), int64(4)\n",
      "memory usage: 71.1 KB\n"
     ]
    }
   ],
   "source": [
    "df.info()"
   ]
  },
  {
   "cell_type": "code",
   "execution_count": 106,
   "id": "08bcc87b",
   "metadata": {},
   "outputs": [],
   "source": [
    "# df.to_csv('netflix .csv', index=False)"
   ]
  },
  {
   "cell_type": "code",
   "execution_count": 59,
   "id": "50cf55b5",
   "metadata": {},
   "outputs": [],
   "source": [
    "df=pd.read_csv(\"netflix .csv\")"
   ]
  },
  {
   "cell_type": "code",
   "execution_count": 60,
   "id": "f97d654a",
   "metadata": {},
   "outputs": [
    {
     "data": {
      "text/html": [
       "<div>\n",
       "<style scoped>\n",
       "    .dataframe tbody tr th:only-of-type {\n",
       "        vertical-align: middle;\n",
       "    }\n",
       "\n",
       "    .dataframe tbody tr th {\n",
       "        vertical-align: top;\n",
       "    }\n",
       "\n",
       "    .dataframe thead th {\n",
       "        text-align: right;\n",
       "    }\n",
       "</style>\n",
       "<table border=\"1\" class=\"dataframe\">\n",
       "  <thead>\n",
       "    <tr style=\"text-align: right;\">\n",
       "      <th></th>\n",
       "      <th>Open</th>\n",
       "      <th>High</th>\n",
       "      <th>Low</th>\n",
       "      <th>Close</th>\n",
       "      <th>Adj Close</th>\n",
       "      <th>Volume</th>\n",
       "      <th>Year</th>\n",
       "      <th>Month</th>\n",
       "      <th>Day</th>\n",
       "    </tr>\n",
       "  </thead>\n",
       "  <tbody>\n",
       "    <tr>\n",
       "      <th>0</th>\n",
       "      <td>262.00000</td>\n",
       "      <td>267.89999</td>\n",
       "      <td>250.02999</td>\n",
       "      <td>254.25999</td>\n",
       "      <td>254.25999</td>\n",
       "      <td>11896100</td>\n",
       "      <td>2018</td>\n",
       "      <td>2</td>\n",
       "      <td>5</td>\n",
       "    </tr>\n",
       "    <tr>\n",
       "      <th>1</th>\n",
       "      <td>247.69999</td>\n",
       "      <td>266.70001</td>\n",
       "      <td>245.00000</td>\n",
       "      <td>265.72000</td>\n",
       "      <td>265.72000</td>\n",
       "      <td>12595800</td>\n",
       "      <td>2018</td>\n",
       "      <td>2</td>\n",
       "      <td>6</td>\n",
       "    </tr>\n",
       "    <tr>\n",
       "      <th>2</th>\n",
       "      <td>266.57998</td>\n",
       "      <td>272.45001</td>\n",
       "      <td>264.32998</td>\n",
       "      <td>264.55999</td>\n",
       "      <td>264.55999</td>\n",
       "      <td>8981500</td>\n",
       "      <td>2018</td>\n",
       "      <td>2</td>\n",
       "      <td>7</td>\n",
       "    </tr>\n",
       "    <tr>\n",
       "      <th>3</th>\n",
       "      <td>267.07998</td>\n",
       "      <td>267.61999</td>\n",
       "      <td>250.00000</td>\n",
       "      <td>250.10000</td>\n",
       "      <td>250.10000</td>\n",
       "      <td>9306700</td>\n",
       "      <td>2018</td>\n",
       "      <td>2</td>\n",
       "      <td>8</td>\n",
       "    </tr>\n",
       "    <tr>\n",
       "      <th>4</th>\n",
       "      <td>253.85000</td>\n",
       "      <td>255.80000</td>\n",
       "      <td>236.11000</td>\n",
       "      <td>249.47000</td>\n",
       "      <td>249.47000</td>\n",
       "      <td>16906900</td>\n",
       "      <td>2018</td>\n",
       "      <td>2</td>\n",
       "      <td>9</td>\n",
       "    </tr>\n",
       "    <tr>\n",
       "      <th>...</th>\n",
       "      <td>...</td>\n",
       "      <td>...</td>\n",
       "      <td>...</td>\n",
       "      <td>...</td>\n",
       "      <td>...</td>\n",
       "      <td>...</td>\n",
       "      <td>...</td>\n",
       "      <td>...</td>\n",
       "      <td>...</td>\n",
       "    </tr>\n",
       "    <tr>\n",
       "      <th>1004</th>\n",
       "      <td>401.97000</td>\n",
       "      <td>427.70001</td>\n",
       "      <td>398.20001</td>\n",
       "      <td>427.14001</td>\n",
       "      <td>427.14001</td>\n",
       "      <td>20047500</td>\n",
       "      <td>2022</td>\n",
       "      <td>1</td>\n",
       "      <td>31</td>\n",
       "    </tr>\n",
       "    <tr>\n",
       "      <th>1005</th>\n",
       "      <td>432.95999</td>\n",
       "      <td>458.48001</td>\n",
       "      <td>425.54000</td>\n",
       "      <td>457.13000</td>\n",
       "      <td>457.13000</td>\n",
       "      <td>22542300</td>\n",
       "      <td>2022</td>\n",
       "      <td>2</td>\n",
       "      <td>1</td>\n",
       "    </tr>\n",
       "    <tr>\n",
       "      <th>1006</th>\n",
       "      <td>448.25000</td>\n",
       "      <td>451.98001</td>\n",
       "      <td>426.48001</td>\n",
       "      <td>429.48001</td>\n",
       "      <td>429.48001</td>\n",
       "      <td>14346000</td>\n",
       "      <td>2022</td>\n",
       "      <td>2</td>\n",
       "      <td>2</td>\n",
       "    </tr>\n",
       "    <tr>\n",
       "      <th>1007</th>\n",
       "      <td>421.44000</td>\n",
       "      <td>429.26001</td>\n",
       "      <td>404.27999</td>\n",
       "      <td>405.60000</td>\n",
       "      <td>405.60000</td>\n",
       "      <td>9905200</td>\n",
       "      <td>2022</td>\n",
       "      <td>2</td>\n",
       "      <td>3</td>\n",
       "    </tr>\n",
       "    <tr>\n",
       "      <th>1008</th>\n",
       "      <td>407.30999</td>\n",
       "      <td>412.76998</td>\n",
       "      <td>396.64001</td>\n",
       "      <td>410.17001</td>\n",
       "      <td>410.17001</td>\n",
       "      <td>7782400</td>\n",
       "      <td>2022</td>\n",
       "      <td>2</td>\n",
       "      <td>4</td>\n",
       "    </tr>\n",
       "  </tbody>\n",
       "</table>\n",
       "<p>1009 rows × 9 columns</p>\n",
       "</div>"
      ],
      "text/plain": [
       "           Open       High        Low      Close  Adj Close    Volume  Year  \\\n",
       "0     262.00000  267.89999  250.02999  254.25999  254.25999  11896100  2018   \n",
       "1     247.69999  266.70001  245.00000  265.72000  265.72000  12595800  2018   \n",
       "2     266.57998  272.45001  264.32998  264.55999  264.55999   8981500  2018   \n",
       "3     267.07998  267.61999  250.00000  250.10000  250.10000   9306700  2018   \n",
       "4     253.85000  255.80000  236.11000  249.47000  249.47000  16906900  2018   \n",
       "...         ...        ...        ...        ...        ...       ...   ...   \n",
       "1004  401.97000  427.70001  398.20001  427.14001  427.14001  20047500  2022   \n",
       "1005  432.95999  458.48001  425.54000  457.13000  457.13000  22542300  2022   \n",
       "1006  448.25000  451.98001  426.48001  429.48001  429.48001  14346000  2022   \n",
       "1007  421.44000  429.26001  404.27999  405.60000  405.60000   9905200  2022   \n",
       "1008  407.30999  412.76998  396.64001  410.17001  410.17001   7782400  2022   \n",
       "\n",
       "      Month  Day  \n",
       "0         2    5  \n",
       "1         2    6  \n",
       "2         2    7  \n",
       "3         2    8  \n",
       "4         2    9  \n",
       "...     ...  ...  \n",
       "1004      1   31  \n",
       "1005      2    1  \n",
       "1006      2    2  \n",
       "1007      2    3  \n",
       "1008      2    4  \n",
       "\n",
       "[1009 rows x 9 columns]"
      ]
     },
     "execution_count": 60,
     "metadata": {},
     "output_type": "execute_result"
    }
   ],
   "source": [
    "df"
   ]
  },
  {
   "cell_type": "code",
   "execution_count": 61,
   "id": "1a5cf82a",
   "metadata": {},
   "outputs": [],
   "source": [
    "df=df.drop(['Adj Close'],axis=1)"
   ]
  },
  {
   "cell_type": "code",
   "execution_count": 62,
   "id": "37106b98",
   "metadata": {},
   "outputs": [
    {
     "data": {
      "text/html": [
       "<div>\n",
       "<style scoped>\n",
       "    .dataframe tbody tr th:only-of-type {\n",
       "        vertical-align: middle;\n",
       "    }\n",
       "\n",
       "    .dataframe tbody tr th {\n",
       "        vertical-align: top;\n",
       "    }\n",
       "\n",
       "    .dataframe thead th {\n",
       "        text-align: right;\n",
       "    }\n",
       "</style>\n",
       "<table border=\"1\" class=\"dataframe\">\n",
       "  <thead>\n",
       "    <tr style=\"text-align: right;\">\n",
       "      <th></th>\n",
       "      <th>Open</th>\n",
       "      <th>High</th>\n",
       "      <th>Low</th>\n",
       "      <th>Close</th>\n",
       "      <th>Volume</th>\n",
       "      <th>Year</th>\n",
       "      <th>Month</th>\n",
       "      <th>Day</th>\n",
       "    </tr>\n",
       "  </thead>\n",
       "  <tbody>\n",
       "    <tr>\n",
       "      <th>0</th>\n",
       "      <td>262.00000</td>\n",
       "      <td>267.89999</td>\n",
       "      <td>250.02999</td>\n",
       "      <td>254.25999</td>\n",
       "      <td>11896100</td>\n",
       "      <td>2018</td>\n",
       "      <td>2</td>\n",
       "      <td>5</td>\n",
       "    </tr>\n",
       "    <tr>\n",
       "      <th>1</th>\n",
       "      <td>247.69999</td>\n",
       "      <td>266.70001</td>\n",
       "      <td>245.00000</td>\n",
       "      <td>265.72000</td>\n",
       "      <td>12595800</td>\n",
       "      <td>2018</td>\n",
       "      <td>2</td>\n",
       "      <td>6</td>\n",
       "    </tr>\n",
       "    <tr>\n",
       "      <th>2</th>\n",
       "      <td>266.57998</td>\n",
       "      <td>272.45001</td>\n",
       "      <td>264.32998</td>\n",
       "      <td>264.55999</td>\n",
       "      <td>8981500</td>\n",
       "      <td>2018</td>\n",
       "      <td>2</td>\n",
       "      <td>7</td>\n",
       "    </tr>\n",
       "    <tr>\n",
       "      <th>3</th>\n",
       "      <td>267.07998</td>\n",
       "      <td>267.61999</td>\n",
       "      <td>250.00000</td>\n",
       "      <td>250.10000</td>\n",
       "      <td>9306700</td>\n",
       "      <td>2018</td>\n",
       "      <td>2</td>\n",
       "      <td>8</td>\n",
       "    </tr>\n",
       "    <tr>\n",
       "      <th>4</th>\n",
       "      <td>253.85000</td>\n",
       "      <td>255.80000</td>\n",
       "      <td>236.11000</td>\n",
       "      <td>249.47000</td>\n",
       "      <td>16906900</td>\n",
       "      <td>2018</td>\n",
       "      <td>2</td>\n",
       "      <td>9</td>\n",
       "    </tr>\n",
       "    <tr>\n",
       "      <th>...</th>\n",
       "      <td>...</td>\n",
       "      <td>...</td>\n",
       "      <td>...</td>\n",
       "      <td>...</td>\n",
       "      <td>...</td>\n",
       "      <td>...</td>\n",
       "      <td>...</td>\n",
       "      <td>...</td>\n",
       "    </tr>\n",
       "    <tr>\n",
       "      <th>1004</th>\n",
       "      <td>401.97000</td>\n",
       "      <td>427.70001</td>\n",
       "      <td>398.20001</td>\n",
       "      <td>427.14001</td>\n",
       "      <td>20047500</td>\n",
       "      <td>2022</td>\n",
       "      <td>1</td>\n",
       "      <td>31</td>\n",
       "    </tr>\n",
       "    <tr>\n",
       "      <th>1005</th>\n",
       "      <td>432.95999</td>\n",
       "      <td>458.48001</td>\n",
       "      <td>425.54000</td>\n",
       "      <td>457.13000</td>\n",
       "      <td>22542300</td>\n",
       "      <td>2022</td>\n",
       "      <td>2</td>\n",
       "      <td>1</td>\n",
       "    </tr>\n",
       "    <tr>\n",
       "      <th>1006</th>\n",
       "      <td>448.25000</td>\n",
       "      <td>451.98001</td>\n",
       "      <td>426.48001</td>\n",
       "      <td>429.48001</td>\n",
       "      <td>14346000</td>\n",
       "      <td>2022</td>\n",
       "      <td>2</td>\n",
       "      <td>2</td>\n",
       "    </tr>\n",
       "    <tr>\n",
       "      <th>1007</th>\n",
       "      <td>421.44000</td>\n",
       "      <td>429.26001</td>\n",
       "      <td>404.27999</td>\n",
       "      <td>405.60000</td>\n",
       "      <td>9905200</td>\n",
       "      <td>2022</td>\n",
       "      <td>2</td>\n",
       "      <td>3</td>\n",
       "    </tr>\n",
       "    <tr>\n",
       "      <th>1008</th>\n",
       "      <td>407.30999</td>\n",
       "      <td>412.76998</td>\n",
       "      <td>396.64001</td>\n",
       "      <td>410.17001</td>\n",
       "      <td>7782400</td>\n",
       "      <td>2022</td>\n",
       "      <td>2</td>\n",
       "      <td>4</td>\n",
       "    </tr>\n",
       "  </tbody>\n",
       "</table>\n",
       "<p>1009 rows × 8 columns</p>\n",
       "</div>"
      ],
      "text/plain": [
       "           Open       High        Low      Close    Volume  Year  Month  Day\n",
       "0     262.00000  267.89999  250.02999  254.25999  11896100  2018      2    5\n",
       "1     247.69999  266.70001  245.00000  265.72000  12595800  2018      2    6\n",
       "2     266.57998  272.45001  264.32998  264.55999   8981500  2018      2    7\n",
       "3     267.07998  267.61999  250.00000  250.10000   9306700  2018      2    8\n",
       "4     253.85000  255.80000  236.11000  249.47000  16906900  2018      2    9\n",
       "...         ...        ...        ...        ...       ...   ...    ...  ...\n",
       "1004  401.97000  427.70001  398.20001  427.14001  20047500  2022      1   31\n",
       "1005  432.95999  458.48001  425.54000  457.13000  22542300  2022      2    1\n",
       "1006  448.25000  451.98001  426.48001  429.48001  14346000  2022      2    2\n",
       "1007  421.44000  429.26001  404.27999  405.60000   9905200  2022      2    3\n",
       "1008  407.30999  412.76998  396.64001  410.17001   7782400  2022      2    4\n",
       "\n",
       "[1009 rows x 8 columns]"
      ]
     },
     "execution_count": 62,
     "metadata": {},
     "output_type": "execute_result"
    }
   ],
   "source": [
    "df"
   ]
  },
  {
   "cell_type": "code",
   "execution_count": 63,
   "id": "1799c71c",
   "metadata": {},
   "outputs": [],
   "source": [
    "X = df.drop('Close',axis=1)\n",
    "y = df['Close']"
   ]
  },
  {
   "cell_type": "code",
   "execution_count": 64,
   "id": "09a4d25d",
   "metadata": {},
   "outputs": [
    {
     "data": {
      "text/html": [
       "<div>\n",
       "<style scoped>\n",
       "    .dataframe tbody tr th:only-of-type {\n",
       "        vertical-align: middle;\n",
       "    }\n",
       "\n",
       "    .dataframe tbody tr th {\n",
       "        vertical-align: top;\n",
       "    }\n",
       "\n",
       "    .dataframe thead th {\n",
       "        text-align: right;\n",
       "    }\n",
       "</style>\n",
       "<table border=\"1\" class=\"dataframe\">\n",
       "  <thead>\n",
       "    <tr style=\"text-align: right;\">\n",
       "      <th></th>\n",
       "      <th>Open</th>\n",
       "      <th>High</th>\n",
       "      <th>Low</th>\n",
       "      <th>Volume</th>\n",
       "      <th>Year</th>\n",
       "      <th>Month</th>\n",
       "      <th>Day</th>\n",
       "    </tr>\n",
       "  </thead>\n",
       "  <tbody>\n",
       "    <tr>\n",
       "      <th>0</th>\n",
       "      <td>262.00000</td>\n",
       "      <td>267.89999</td>\n",
       "      <td>250.02999</td>\n",
       "      <td>11896100</td>\n",
       "      <td>2018</td>\n",
       "      <td>2</td>\n",
       "      <td>5</td>\n",
       "    </tr>\n",
       "    <tr>\n",
       "      <th>1</th>\n",
       "      <td>247.69999</td>\n",
       "      <td>266.70001</td>\n",
       "      <td>245.00000</td>\n",
       "      <td>12595800</td>\n",
       "      <td>2018</td>\n",
       "      <td>2</td>\n",
       "      <td>6</td>\n",
       "    </tr>\n",
       "    <tr>\n",
       "      <th>2</th>\n",
       "      <td>266.57998</td>\n",
       "      <td>272.45001</td>\n",
       "      <td>264.32998</td>\n",
       "      <td>8981500</td>\n",
       "      <td>2018</td>\n",
       "      <td>2</td>\n",
       "      <td>7</td>\n",
       "    </tr>\n",
       "    <tr>\n",
       "      <th>3</th>\n",
       "      <td>267.07998</td>\n",
       "      <td>267.61999</td>\n",
       "      <td>250.00000</td>\n",
       "      <td>9306700</td>\n",
       "      <td>2018</td>\n",
       "      <td>2</td>\n",
       "      <td>8</td>\n",
       "    </tr>\n",
       "    <tr>\n",
       "      <th>4</th>\n",
       "      <td>253.85000</td>\n",
       "      <td>255.80000</td>\n",
       "      <td>236.11000</td>\n",
       "      <td>16906900</td>\n",
       "      <td>2018</td>\n",
       "      <td>2</td>\n",
       "      <td>9</td>\n",
       "    </tr>\n",
       "    <tr>\n",
       "      <th>...</th>\n",
       "      <td>...</td>\n",
       "      <td>...</td>\n",
       "      <td>...</td>\n",
       "      <td>...</td>\n",
       "      <td>...</td>\n",
       "      <td>...</td>\n",
       "      <td>...</td>\n",
       "    </tr>\n",
       "    <tr>\n",
       "      <th>1004</th>\n",
       "      <td>401.97000</td>\n",
       "      <td>427.70001</td>\n",
       "      <td>398.20001</td>\n",
       "      <td>20047500</td>\n",
       "      <td>2022</td>\n",
       "      <td>1</td>\n",
       "      <td>31</td>\n",
       "    </tr>\n",
       "    <tr>\n",
       "      <th>1005</th>\n",
       "      <td>432.95999</td>\n",
       "      <td>458.48001</td>\n",
       "      <td>425.54000</td>\n",
       "      <td>22542300</td>\n",
       "      <td>2022</td>\n",
       "      <td>2</td>\n",
       "      <td>1</td>\n",
       "    </tr>\n",
       "    <tr>\n",
       "      <th>1006</th>\n",
       "      <td>448.25000</td>\n",
       "      <td>451.98001</td>\n",
       "      <td>426.48001</td>\n",
       "      <td>14346000</td>\n",
       "      <td>2022</td>\n",
       "      <td>2</td>\n",
       "      <td>2</td>\n",
       "    </tr>\n",
       "    <tr>\n",
       "      <th>1007</th>\n",
       "      <td>421.44000</td>\n",
       "      <td>429.26001</td>\n",
       "      <td>404.27999</td>\n",
       "      <td>9905200</td>\n",
       "      <td>2022</td>\n",
       "      <td>2</td>\n",
       "      <td>3</td>\n",
       "    </tr>\n",
       "    <tr>\n",
       "      <th>1008</th>\n",
       "      <td>407.30999</td>\n",
       "      <td>412.76998</td>\n",
       "      <td>396.64001</td>\n",
       "      <td>7782400</td>\n",
       "      <td>2022</td>\n",
       "      <td>2</td>\n",
       "      <td>4</td>\n",
       "    </tr>\n",
       "  </tbody>\n",
       "</table>\n",
       "<p>1009 rows × 7 columns</p>\n",
       "</div>"
      ],
      "text/plain": [
       "           Open       High        Low    Volume  Year  Month  Day\n",
       "0     262.00000  267.89999  250.02999  11896100  2018      2    5\n",
       "1     247.69999  266.70001  245.00000  12595800  2018      2    6\n",
       "2     266.57998  272.45001  264.32998   8981500  2018      2    7\n",
       "3     267.07998  267.61999  250.00000   9306700  2018      2    8\n",
       "4     253.85000  255.80000  236.11000  16906900  2018      2    9\n",
       "...         ...        ...        ...       ...   ...    ...  ...\n",
       "1004  401.97000  427.70001  398.20001  20047500  2022      1   31\n",
       "1005  432.95999  458.48001  425.54000  22542300  2022      2    1\n",
       "1006  448.25000  451.98001  426.48001  14346000  2022      2    2\n",
       "1007  421.44000  429.26001  404.27999   9905200  2022      2    3\n",
       "1008  407.30999  412.76998  396.64001   7782400  2022      2    4\n",
       "\n",
       "[1009 rows x 7 columns]"
      ]
     },
     "execution_count": 64,
     "metadata": {},
     "output_type": "execute_result"
    }
   ],
   "source": [
    "X"
   ]
  },
  {
   "cell_type": "code",
   "execution_count": 65,
   "id": "02569219",
   "metadata": {},
   "outputs": [
    {
     "data": {
      "text/plain": [
       "0       254.25999\n",
       "1       265.72000\n",
       "2       264.55999\n",
       "3       250.10000\n",
       "4       249.47000\n",
       "          ...    \n",
       "1004    427.14001\n",
       "1005    457.13000\n",
       "1006    429.48001\n",
       "1007    405.60000\n",
       "1008    410.17001\n",
       "Name: Close, Length: 1009, dtype: float64"
      ]
     },
     "execution_count": 65,
     "metadata": {},
     "output_type": "execute_result"
    }
   ],
   "source": [
    "y"
   ]
  },
  {
   "cell_type": "code",
   "execution_count": 66,
   "id": "6529010f",
   "metadata": {},
   "outputs": [],
   "source": [
    "from sklearn.model_selection import train_test_split"
   ]
  },
  {
   "cell_type": "code",
   "execution_count": 67,
   "id": "f1a2a6e7",
   "metadata": {},
   "outputs": [],
   "source": [
    "X_train, X_test, y_train, y_test = train_test_split(X, y, test_size=0.2, random_state=1)"
   ]
  },
  {
   "cell_type": "code",
   "execution_count": 68,
   "id": "eda74068",
   "metadata": {},
   "outputs": [
    {
     "data": {
      "text/plain": [
       "(807, 7)"
      ]
     },
     "execution_count": 68,
     "metadata": {},
     "output_type": "execute_result"
    }
   ],
   "source": [
    "X_train.shape"
   ]
  },
  {
   "cell_type": "code",
   "execution_count": 69,
   "id": "168e9532",
   "metadata": {},
   "outputs": [
    {
     "data": {
      "text/plain": [
       "(202, 7)"
      ]
     },
     "execution_count": 69,
     "metadata": {},
     "output_type": "execute_result"
    }
   ],
   "source": [
    "X_test.shape"
   ]
  },
  {
   "cell_type": "code",
   "execution_count": 54,
   "id": "319d9689",
   "metadata": {},
   "outputs": [],
   "source": [
    "# from sklearn.preprocessing import StandardScaler\n",
    "# sclr = StandardScaler()"
   ]
  },
  {
   "cell_type": "code",
   "execution_count": 55,
   "id": "36f803fc",
   "metadata": {},
   "outputs": [],
   "source": [
    "# X_train = sclr.fit_transform(X_train)\n",
    "# X_test = sclr.transform(X_test)"
   ]
  },
  {
   "cell_type": "code",
   "execution_count": 14,
   "id": "82763d8e",
   "metadata": {},
   "outputs": [],
   "source": [
    "# import pickle\n",
    "# pickle.dump(sclr,open('scaling.pkl','wb'))"
   ]
  },
  {
   "cell_type": "code",
   "execution_count": 70,
   "id": "0d7ca62e",
   "metadata": {},
   "outputs": [
    {
     "data": {
      "text/html": [
       "<div>\n",
       "<style scoped>\n",
       "    .dataframe tbody tr th:only-of-type {\n",
       "        vertical-align: middle;\n",
       "    }\n",
       "\n",
       "    .dataframe tbody tr th {\n",
       "        vertical-align: top;\n",
       "    }\n",
       "\n",
       "    .dataframe thead th {\n",
       "        text-align: right;\n",
       "    }\n",
       "</style>\n",
       "<table border=\"1\" class=\"dataframe\">\n",
       "  <thead>\n",
       "    <tr style=\"text-align: right;\">\n",
       "      <th></th>\n",
       "      <th>Open</th>\n",
       "      <th>High</th>\n",
       "      <th>Low</th>\n",
       "      <th>Volume</th>\n",
       "      <th>Year</th>\n",
       "      <th>Month</th>\n",
       "      <th>Day</th>\n",
       "    </tr>\n",
       "  </thead>\n",
       "  <tbody>\n",
       "    <tr>\n",
       "      <th>983</th>\n",
       "      <td>612.98999</td>\n",
       "      <td>620.60998</td>\n",
       "      <td>611.23999</td>\n",
       "      <td>1625100</td>\n",
       "      <td>2021</td>\n",
       "      <td>12</td>\n",
       "      <td>30</td>\n",
       "    </tr>\n",
       "    <tr>\n",
       "      <th>973</th>\n",
       "      <td>598.17999</td>\n",
       "      <td>605.69000</td>\n",
       "      <td>584.51001</td>\n",
       "      <td>2866200</td>\n",
       "      <td>2021</td>\n",
       "      <td>12</td>\n",
       "      <td>15</td>\n",
       "    </tr>\n",
       "    <tr>\n",
       "      <th>47</th>\n",
       "      <td>317.29000</td>\n",
       "      <td>317.48999</td>\n",
       "      <td>308.23001</td>\n",
       "      <td>12046600</td>\n",
       "      <td>2018</td>\n",
       "      <td>4</td>\n",
       "      <td>13</td>\n",
       "    </tr>\n",
       "    <tr>\n",
       "      <th>527</th>\n",
       "      <td>358.92001</td>\n",
       "      <td>362.98001</td>\n",
       "      <td>344.79000</td>\n",
       "      <td>6036000</td>\n",
       "      <td>2020</td>\n",
       "      <td>3</td>\n",
       "      <td>11</td>\n",
       "    </tr>\n",
       "    <tr>\n",
       "      <th>643</th>\n",
       "      <td>488.19000</td>\n",
       "      <td>492.47000</td>\n",
       "      <td>485.08999</td>\n",
       "      <td>5727700</td>\n",
       "      <td>2020</td>\n",
       "      <td>8</td>\n",
       "      <td>25</td>\n",
       "    </tr>\n",
       "    <tr>\n",
       "      <th>...</th>\n",
       "      <td>...</td>\n",
       "      <td>...</td>\n",
       "      <td>...</td>\n",
       "      <td>...</td>\n",
       "      <td>...</td>\n",
       "      <td>...</td>\n",
       "      <td>...</td>\n",
       "    </tr>\n",
       "    <tr>\n",
       "      <th>767</th>\n",
       "      <td>525.00000</td>\n",
       "      <td>548.53997</td>\n",
       "      <td>518.28002</td>\n",
       "      <td>4136500</td>\n",
       "      <td>2021</td>\n",
       "      <td>2</td>\n",
       "      <td>23</td>\n",
       "    </tr>\n",
       "    <tr>\n",
       "      <th>72</th>\n",
       "      <td>324.89999</td>\n",
       "      <td>326.42001</td>\n",
       "      <td>322.79998</td>\n",
       "      <td>3577700</td>\n",
       "      <td>2018</td>\n",
       "      <td>5</td>\n",
       "      <td>18</td>\n",
       "    </tr>\n",
       "    <tr>\n",
       "      <th>908</th>\n",
       "      <td>584.89001</td>\n",
       "      <td>587.28002</td>\n",
       "      <td>575.55999</td>\n",
       "      <td>3457000</td>\n",
       "      <td>2021</td>\n",
       "      <td>9</td>\n",
       "      <td>14</td>\n",
       "    </tr>\n",
       "    <tr>\n",
       "      <th>235</th>\n",
       "      <td>330.95999</td>\n",
       "      <td>341.08999</td>\n",
       "      <td>328.51998</td>\n",
       "      <td>19500400</td>\n",
       "      <td>2019</td>\n",
       "      <td>1</td>\n",
       "      <td>11</td>\n",
       "    </tr>\n",
       "    <tr>\n",
       "      <th>37</th>\n",
       "      <td>287.00000</td>\n",
       "      <td>295.35000</td>\n",
       "      <td>275.89999</td>\n",
       "      <td>19145500</td>\n",
       "      <td>2018</td>\n",
       "      <td>3</td>\n",
       "      <td>29</td>\n",
       "    </tr>\n",
       "  </tbody>\n",
       "</table>\n",
       "<p>807 rows × 7 columns</p>\n",
       "</div>"
      ],
      "text/plain": [
       "          Open       High        Low    Volume  Year  Month  Day\n",
       "983  612.98999  620.60998  611.23999   1625100  2021     12   30\n",
       "973  598.17999  605.69000  584.51001   2866200  2021     12   15\n",
       "47   317.29000  317.48999  308.23001  12046600  2018      4   13\n",
       "527  358.92001  362.98001  344.79000   6036000  2020      3   11\n",
       "643  488.19000  492.47000  485.08999   5727700  2020      8   25\n",
       "..         ...        ...        ...       ...   ...    ...  ...\n",
       "767  525.00000  548.53997  518.28002   4136500  2021      2   23\n",
       "72   324.89999  326.42001  322.79998   3577700  2018      5   18\n",
       "908  584.89001  587.28002  575.55999   3457000  2021      9   14\n",
       "235  330.95999  341.08999  328.51998  19500400  2019      1   11\n",
       "37   287.00000  295.35000  275.89999  19145500  2018      3   29\n",
       "\n",
       "[807 rows x 7 columns]"
      ]
     },
     "execution_count": 70,
     "metadata": {},
     "output_type": "execute_result"
    }
   ],
   "source": [
    "X_train"
   ]
  },
  {
   "cell_type": "code",
   "execution_count": 71,
   "id": "a5e95bc2",
   "metadata": {},
   "outputs": [],
   "source": [
    "import xgboost as xgb\n",
    "from xgboost import XGBRegressor\n"
   ]
  },
  {
   "cell_type": "code",
   "execution_count": 72,
   "id": "b66de224",
   "metadata": {},
   "outputs": [],
   "source": [
    "from sklearn.linear_model import LinearRegression\n",
    "from sklearn.ensemble import RandomForestRegressor\n",
    "from sklearn.svm import SVR\n"
   ]
  },
  {
   "cell_type": "code",
   "execution_count": 73,
   "id": "17425a44",
   "metadata": {},
   "outputs": [],
   "source": [
    "lr = LinearRegression()\n",
    "rf = RandomForestRegressor()\n",
    "xgb = XGBRegressor()\n",
    "svr = SVR()\n"
   ]
  },
  {
   "cell_type": "code",
   "execution_count": 74,
   "id": "ceaac198",
   "metadata": {},
   "outputs": [
    {
     "data": {
      "text/plain": [
       "LinearRegression()"
      ]
     },
     "execution_count": 74,
     "metadata": {},
     "output_type": "execute_result"
    }
   ],
   "source": [
    "lr.fit(X_train,y_train)"
   ]
  },
  {
   "cell_type": "code",
   "execution_count": 75,
   "id": "5a922cf8",
   "metadata": {},
   "outputs": [
    {
     "data": {
      "text/plain": [
       "RandomForestRegressor()"
      ]
     },
     "execution_count": 75,
     "metadata": {},
     "output_type": "execute_result"
    }
   ],
   "source": [
    "rf.fit(X_train,y_train)"
   ]
  },
  {
   "cell_type": "code",
   "execution_count": 76,
   "id": "a446c109",
   "metadata": {},
   "outputs": [
    {
     "data": {
      "text/plain": [
       "XGBRegressor(base_score=0.5, booster='gbtree', callbacks=None,\n",
       "             colsample_bylevel=1, colsample_bynode=1, colsample_bytree=1,\n",
       "             early_stopping_rounds=None, enable_categorical=False,\n",
       "             eval_metric=None, feature_types=None, gamma=0, gpu_id=-1,\n",
       "             grow_policy='depthwise', importance_type=None,\n",
       "             interaction_constraints='', learning_rate=0.300000012, max_bin=256,\n",
       "             max_cat_threshold=64, max_cat_to_onehot=4, max_delta_step=0,\n",
       "             max_depth=6, max_leaves=0, min_child_weight=1, missing=nan,\n",
       "             monotone_constraints='()', n_estimators=100, n_jobs=0,\n",
       "             num_parallel_tree=1, predictor='auto', random_state=0, ...)"
      ]
     },
     "execution_count": 76,
     "metadata": {},
     "output_type": "execute_result"
    }
   ],
   "source": [
    "xgb.fit(X_train,y_train)\n"
   ]
  },
  {
   "cell_type": "code",
   "execution_count": 77,
   "id": "6aef3d89",
   "metadata": {},
   "outputs": [
    {
     "data": {
      "text/plain": [
       "SVR()"
      ]
     },
     "execution_count": 77,
     "metadata": {},
     "output_type": "execute_result"
    }
   ],
   "source": [
    "svr.fit(X_train,y_train)"
   ]
  },
  {
   "cell_type": "code",
   "execution_count": 78,
   "id": "e8b1ee42",
   "metadata": {},
   "outputs": [],
   "source": [
    "y_pred_lr = lr.predict(X_test)\n",
    "y_pred_rf = rf.predict(X_test)\n",
    "y_pred_xgb = xgb.predict(X_test)\n",
    "y_pred_svr = svr.predict(X_test)"
   ]
  },
  {
   "cell_type": "code",
   "execution_count": 79,
   "id": "2267efe6",
   "metadata": {},
   "outputs": [
    {
     "data": {
      "text/plain": [
       "array([585.66753677, 634.80207971, 366.24908049, 431.90291869,\n",
       "       415.23841723, 343.51223967, 501.00392718, 531.77560358,\n",
       "       347.52441366, 333.4552572 , 481.62427214, 364.01039137,\n",
       "       656.8336698 , 349.56113766, 357.57568903, 325.05440791,\n",
       "       396.112481  , 258.64755932, 266.90366129, 541.90015611,\n",
       "       598.30001562, 340.61151407, 271.41047253, 319.24311835,\n",
       "       295.73552557, 362.91385189, 417.84739838, 541.26004272,\n",
       "       502.26685996, 501.82771243, 605.37209196, 525.05665765,\n",
       "       531.8111277 , 372.80257729, 356.2107813 , 273.53090484,\n",
       "       351.3913508 , 537.87422467, 357.3315047 , 668.24768983,\n",
       "       423.36569935, 364.09575351, 392.64361378, 393.90264899,\n",
       "       414.56425686, 503.42745619, 447.29892295, 295.16351982,\n",
       "       378.25312709, 551.91832217, 284.02325094, 313.07748198,\n",
       "       330.66435465, 302.28165061, 350.58390629, 298.44169938,\n",
       "       515.23779138, 485.00014622, 610.33923956, 488.76075212,\n",
       "       379.90525133, 487.23967591, 307.22628021, 501.30720858,\n",
       "       473.21852585, 524.09798755, 679.76540346, 492.6702049 ,\n",
       "       534.47438929, 288.0120073 , 284.01265009, 342.01223559,\n",
       "       337.93744362, 453.69907166, 325.78231235, 330.42356686,\n",
       "       420.87323633, 370.56100736, 292.83475374, 312.06788631,\n",
       "       624.10796846, 545.75816806, 584.31447516, 242.74023528,\n",
       "       285.14112199, 325.57107244, 356.83337453, 488.2205815 ,\n",
       "       603.06769688, 365.64518874, 473.67787033, 663.11376631,\n",
       "       548.51070994, 331.57046976, 558.60648725, 516.34936538,\n",
       "       485.31836024, 541.67900516, 424.9321289 , 366.56741253,\n",
       "       416.65480337, 282.46642099, 287.18851326, 328.4707085 ,\n",
       "       496.13524545, 282.36743869, 490.23310699, 320.13941736,\n",
       "       490.43347604, 513.94174693, 628.81711109, 367.5656179 ,\n",
       "       361.71109887, 310.15762796, 517.04710297, 309.72623805,\n",
       "       314.0556217 , 514.61632954, 354.69773048, 316.03895724,\n",
       "       667.0043526 , 553.02162069, 253.9248559 , 294.95387564,\n",
       "       265.16994552, 345.38465224, 484.13552847, 306.33132022,\n",
       "       521.22148386, 519.7460696 , 419.99936271, 372.4374142 ,\n",
       "       485.96981605, 269.79996768, 513.09768173, 449.0933287 ,\n",
       "       525.89759908, 361.82803038, 502.39650677, 663.04774108,\n",
       "       329.6606334 , 357.53826897, 298.47354313, 329.17094653,\n",
       "       397.47157173, 255.50959787, 291.00197305, 639.55569593,\n",
       "       545.85843542, 273.45216862, 492.49461763, 364.88339564,\n",
       "       276.873935  , 367.99292746, 311.88440748, 356.30392082,\n",
       "       559.981285  , 356.27828279, 486.5880458 , 365.92806359,\n",
       "       484.4042712 , 366.76447466, 511.12660264, 340.70002765,\n",
       "       611.47737221, 651.25897811, 514.9907614 , 300.59219036,\n",
       "       333.96319233, 553.61940055, 662.70398794, 346.46589978,\n",
       "       358.26652169, 353.62208983, 311.9182307 , 434.28251077,\n",
       "       265.15048138, 655.15917442, 266.19189346, 537.16201941,\n",
       "       274.76288583, 559.98377986, 334.34149962, 363.47826415,\n",
       "       669.68721792, 358.53976039, 459.89284761, 269.36752716,\n",
       "       498.95875647, 302.69694961, 292.53548203, 509.71410434,\n",
       "       508.84467369, 331.36685102, 548.58392306, 348.21407614,\n",
       "       434.8181883 , 519.63604503, 525.5992138 , 596.43658703,\n",
       "       482.54757219, 438.36442386])"
      ]
     },
     "execution_count": 79,
     "metadata": {},
     "output_type": "execute_result"
    }
   ],
   "source": [
    "y_pred_lr"
   ]
  },
  {
   "cell_type": "code",
   "execution_count": 80,
   "id": "961a216a",
   "metadata": {},
   "outputs": [
    {
     "data": {
      "application/javascript": [
       "\n",
       "        if (window._pyforest_update_imports_cell) { window._pyforest_update_imports_cell('import matplotlib.pyplot as plt'); }\n",
       "    "
      ],
      "text/plain": [
       "<IPython.core.display.Javascript object>"
      ]
     },
     "metadata": {},
     "output_type": "display_data"
    },
    {
     "data": {
      "application/javascript": [
       "\n",
       "        if (window._pyforest_update_imports_cell) { window._pyforest_update_imports_cell('import matplotlib.pyplot as plt'); }\n",
       "    "
      ],
      "text/plain": [
       "<IPython.core.display.Javascript object>"
      ]
     },
     "metadata": {},
     "output_type": "display_data"
    },
    {
     "data": {
      "application/javascript": [
       "\n",
       "        if (window._pyforest_update_imports_cell) { window._pyforest_update_imports_cell('import matplotlib.pyplot as plt'); }\n",
       "    "
      ],
      "text/plain": [
       "<IPython.core.display.Javascript object>"
      ]
     },
     "metadata": {},
     "output_type": "display_data"
    },
    {
     "data": {
      "application/javascript": [
       "\n",
       "        if (window._pyforest_update_imports_cell) { window._pyforest_update_imports_cell('import matplotlib.pyplot as plt'); }\n",
       "    "
      ],
      "text/plain": [
       "<IPython.core.display.Javascript object>"
      ]
     },
     "metadata": {},
     "output_type": "display_data"
    },
    {
     "data": {
      "image/png": "[encoded data removed]",
      "text/plain": [
       "<Figure size 640x480 with 1 Axes>"
      ]
     },
     "metadata": {},
     "output_type": "display_data"
    }
   ],
   "source": [
    "# plot a Scatter plot for prediction and y_test)\n",
    "plt.scatter(y_test, y_pred_rf)\n",
    "plt.xlabel('True Value ')\n",
    "plt.ylabel('Predict value')\n",
    "plt.show()"
   ]
  },
  {
   "cell_type": "code",
   "execution_count": 81,
   "id": "8a224d43",
   "metadata": {},
   "outputs": [
    {
     "data": {
      "text/plain": [
       "0.998777422890999"
      ]
     },
     "execution_count": 81,
     "metadata": {},
     "output_type": "execute_result"
    }
   ],
   "source": [
    "lr.score(X_test,y_test)"
   ]
  },
  {
   "cell_type": "code",
   "execution_count": 82,
   "id": "3f1254e4",
   "metadata": {},
   "outputs": [
    {
     "data": {
      "text/plain": [
       "0.9977147203312573"
      ]
     },
     "execution_count": 82,
     "metadata": {},
     "output_type": "execute_result"
    }
   ],
   "source": [
    "rf.score(X_test,y_test)"
   ]
  },
  {
   "cell_type": "code",
   "execution_count": 83,
   "id": "f18f139c",
   "metadata": {},
   "outputs": [
    {
     "data": {
      "text/plain": [
       "0.9967262029595592"
      ]
     },
     "execution_count": 83,
     "metadata": {},
     "output_type": "execute_result"
    }
   ],
   "source": [
    "xgb.score(X_test,y_test)"
   ]
  },
  {
   "cell_type": "code",
   "execution_count": 84,
   "id": "b3f18bd2",
   "metadata": {},
   "outputs": [
    {
     "data": {
      "text/plain": [
       "0.28694804771945004"
      ]
     },
     "execution_count": 84,
     "metadata": {},
     "output_type": "execute_result"
    }
   ],
   "source": [
    "svr.score(X_test,y_test)"
   ]
  },
  {
   "cell_type": "code",
   "execution_count": 85,
   "id": "90853886",
   "metadata": {},
   "outputs": [],
   "source": [
    "from sklearn.metrics import r2_score,mean_squared_error"
   ]
  },
  {
   "cell_type": "code",
   "execution_count": 86,
   "id": "81a1317f",
   "metadata": {},
   "outputs": [
    {
     "data": {
      "text/plain": [
       "0.998777422890999"
      ]
     },
     "execution_count": 86,
     "metadata": {},
     "output_type": "execute_result"
    }
   ],
   "source": [
    "r2_score(y_test,y_pred_lr)"
   ]
  },
  {
   "cell_type": "code",
   "execution_count": 87,
   "id": "aaf847f4",
   "metadata": {},
   "outputs": [
    {
     "data": {
      "text/plain": [
       "0.9977147203312573"
      ]
     },
     "execution_count": 87,
     "metadata": {},
     "output_type": "execute_result"
    }
   ],
   "source": [
    "r2_score(y_test,y_pred_rf)"
   ]
  },
  {
   "cell_type": "code",
   "execution_count": 88,
   "id": "16e72979",
   "metadata": {},
   "outputs": [
    {
     "data": {
      "text/plain": [
       "0.9967262029595592"
      ]
     },
     "execution_count": 88,
     "metadata": {},
     "output_type": "execute_result"
    }
   ],
   "source": [
    "r2_score(y_test,y_pred_xgb)"
   ]
  },
  {
   "cell_type": "code",
   "execution_count": 89,
   "id": "79af49bd",
   "metadata": {},
   "outputs": [
    {
     "data": {
      "text/plain": [
       "0.28694804771945004"
      ]
     },
     "execution_count": 89,
     "metadata": {},
     "output_type": "execute_result"
    }
   ],
   "source": [
    "r2_score(y_test,y_pred_svr)"
   ]
  },
  {
   "cell_type": "code",
   "execution_count": 36,
   "id": "58181144",
   "metadata": {},
   "outputs": [
    {
     "data": {
      "text/plain": [
       "16.120322841603155"
      ]
     },
     "execution_count": 36,
     "metadata": {},
     "output_type": "execute_result"
    }
   ],
   "source": [
    "mean_squared_error(y_test,y_pred_lr)"
   ]
  },
  {
   "cell_type": "code",
   "execution_count": 37,
   "id": "af195028",
   "metadata": {},
   "outputs": [
    {
     "data": {
      "text/plain": [
       "30.84044870706162"
      ]
     },
     "execution_count": 37,
     "metadata": {},
     "output_type": "execute_result"
    }
   ],
   "source": [
    "mean_squared_error(y_test,y_pred_rf)"
   ]
  },
  {
   "cell_type": "code",
   "execution_count": 38,
   "id": "9ae17e1a",
   "metadata": {},
   "outputs": [
    {
     "data": {
      "text/plain": [
       "43.16673755892318"
      ]
     },
     "execution_count": 38,
     "metadata": {},
     "output_type": "execute_result"
    }
   ],
   "source": [
    "mean_squared_error(y_test,y_pred_xgb)"
   ]
  },
  {
   "cell_type": "code",
   "execution_count": 39,
   "id": "7e3d46a9",
   "metadata": {},
   "outputs": [
    {
     "data": {
      "text/plain": [
       "9401.965396678077"
      ]
     },
     "execution_count": 39,
     "metadata": {},
     "output_type": "execute_result"
    }
   ],
   "source": [
    "mean_squared_error(y_test,y_pred_svr)"
   ]
  },
  {
   "cell_type": "code",
   "execution_count": 90,
   "id": "9c56965d",
   "metadata": {},
   "outputs": [
    {
     "data": {
      "text/plain": [
       "array([326.40181686])"
      ]
     },
     "execution_count": 90,
     "metadata": {},
     "output_type": "execute_result"
    }
   ],
   "source": [
    "lr.predict([[603.359985,614.820007,250.029999,11896100,2018,2,5]])"
   ]
  },
  {
   "cell_type": "code",
   "execution_count": 91,
   "id": "ef192a99",
   "metadata": {},
   "outputs": [
    {
     "data": {
      "text/plain": [
       "array([398.8752005])"
      ]
     },
     "execution_count": 91,
     "metadata": {},
     "output_type": "execute_result"
    }
   ],
   "source": [
    "rf.predict([[603.359985,614.820007,250.029999,11896100,2018,2,5]])"
   ]
  },
  {
   "cell_type": "code",
   "execution_count": 51,
   "id": "34876771",
   "metadata": {},
   "outputs": [],
   "source": [
    "# xgb.predict([[603.359985,614.820007,250.029999,11896100,2018,2,5]])"
   ]
  },
  {
   "cell_type": "code",
   "execution_count": 49,
   "id": "40d8b62c",
   "metadata": {},
   "outputs": [],
   "source": [
    "input_data = [[603.359985, 614.820007, 250.029999, 11896100, 2018, 2, 5]]\n",
    "input_df = pd.DataFrame(input_data, columns=['Open', 'High', 'Low', 'Volume', 'Year', 'Month', 'Day'])\n",
    "prediction = xgb.predict(input_df)\n"
   ]
  },
  {
   "cell_type": "code",
   "execution_count": 50,
   "id": "c7f59734",
   "metadata": {},
   "outputs": [
    {
     "data": {
      "text/plain": [
       "array([461.277], dtype=float32)"
      ]
     },
     "execution_count": 50,
     "metadata": {},
     "output_type": "execute_result"
    }
   ],
   "source": [
    "prediction"
   ]
  },
  {
   "cell_type": "code",
   "execution_count": 32,
   "id": "f85e247a",
   "metadata": {},
   "outputs": [
    {
     "data": {
      "text/plain": [
       "array([417.20071886])"
      ]
     },
     "execution_count": 32,
     "metadata": {},
     "output_type": "execute_result"
    }
   ],
   "source": [
    "svr.predict([[603.359985,614.820007,250.029999,254.259995,11896100,2018,2,5]])"
   ]
  },
  {
   "cell_type": "code",
   "execution_count": 52,
   "id": "c08c9537",
   "metadata": {},
   "outputs": [],
   "source": [
    "import pickle\n",
    "pickle.dump(lr,open('model_lr.pkl','wb'))"
   ]
  },
  {
   "cell_type": "code",
   "execution_count": 92,
   "id": "d4e2ceaa",
   "metadata": {},
   "outputs": [],
   "source": [
    "pickle.dump(rf,open('model_rf.pkl','wb'))"
   ]
  },
  {
   "cell_type": "code",
   "execution_count": 54,
   "id": "3f0102ab",
   "metadata": {},
   "outputs": [],
   "source": [
    "pickle.dump(xgb,open('model_xgb.pkl','wb'))"
   ]
  },
  {
   "cell_type": "code",
   "execution_count": 55,
   "id": "370a853e",
   "metadata": {},
   "outputs": [],
   "source": [
    "pickle.dump(svr,open('model_svr.pkl','wb'))"
   ]
  },
  {
   "cell_type": "code",
   "execution_count": 56,
   "id": "65296dab",
   "metadata": {},
   "outputs": [],
   "source": [
    "model = pickle.load(open(\"model_rf.pkl\", 'rb'))"
   ]
  },
  {
   "cell_type": "code",
   "execution_count": 58,
   "id": "b1052a7e",
   "metadata": {},
   "outputs": [
    {
     "data": {
      "text/plain": [
       "array([397.9022978])"
      ]
     },
     "execution_count": 58,
     "metadata": {},
     "output_type": "execute_result"
    }
   ],
   "source": [
    "model.predict([[603.359985,614.820007,250.029999,11896100,2018,2,5]])"
   ]
  },
  {
   "cell_type": "code",
   "execution_count": 43,
   "id": "6d8fbb91",
   "metadata": {},
   "outputs": [
    {
     "data": {
      "text/plain": [
       "array([269.7093904])"
      ]
     },
     "execution_count": 43,
     "metadata": {},
     "output_type": "execute_result"
    }
   ],
   "source": [
    "\n",
    "model.predict(sclr.transform([[603.359985, 614.820007, 250.029999, 254.259995, 11896100, 2018, 2, 5]]).reshape(1, -1))\n",
    "\n"
   ]
  },
  {
   "cell_type": "code",
   "execution_count": 44,
   "id": "bd5dfb87",
   "metadata": {},
   "outputs": [
    {
     "data": {
      "text/plain": [
       "array([269.7093904])"
      ]
     },
     "execution_count": 44,
     "metadata": {},
     "output_type": "execute_result"
    }
   ],
   "source": [
    "model.predict(sclr.transform([[603.359985, 614.820007, 250.029999, 254.259995, 11896100, 2018, 2, 5]]))\n"
   ]
  },
  {
   "cell_type": "code",
   "execution_count": 69,
   "id": "8ac56736",
   "metadata": {},
   "outputs": [],
   "source": [
    "import joblib"
   ]
  },
  {
   "cell_type": "code",
   "execution_count": 70,
   "id": "5314c157",
   "metadata": {},
   "outputs": [
    {
     "data": {
      "text/plain": [
       "['model.joblib']"
      ]
     },
     "execution_count": 70,
     "metadata": {},
     "output_type": "execute_result"
    }
   ],
   "source": [
    "joblib.dump(rf, 'model.joblib')"
   ]
  },
  {
   "cell_type": "code",
   "execution_count": 71,
   "id": "f82d08e9",
   "metadata": {},
   "outputs": [],
   "source": [
    "model = joblib.load('model.joblib')\n"
   ]
  },
  {
   "cell_type": "code",
   "execution_count": 72,
   "id": "7898c51b",
   "metadata": {},
   "outputs": [
    {
     "data": {
      "text/plain": [
       "array([687.5537945])"
      ]
     },
     "execution_count": 72,
     "metadata": {},
     "output_type": "execute_result"
    }
   ],
   "source": [
    "model.predict([[603.359985,614.820007,250.029999,254.259995,11896100,2018,2,5]])"
   ]
  },
  {
   "cell_type": "code",
   "execution_count": 93,
   "id": "5f0be8be",
   "metadata": {},
   "outputs": [],
   "source": [
    "model = pickle.load(open(\"model_rf.pkl\", 'rb'))"
   ]
  },
  {
   "cell_type": "code",
   "execution_count": 94,
   "id": "c2800c78",
   "metadata": {},
   "outputs": [
    {
     "data": {
      "text/plain": [
       "array([398.8752005])"
      ]
     },
     "execution_count": 94,
     "metadata": {},
     "output_type": "execute_result"
    }
   ],
   "source": [
    "model.predict([[603.359985,614.820007,250.029999,11896100,2018,2,5]])"
   ]
  },
  {
   "cell_type": "code",
   "execution_count": null,
   "id": "b8bda946",
   "metadata": {},
   "outputs": [],
   "source": []
  }
 ],
 "metadata": {
  "kernelspec": {
   "display_name": "Python 3 (ipykernel)",
   "language": "python",
   "name": "python3"
  },
  "language_info": {
   "codemirror_mode": {
    "name": "ipython",
    "version": 3
   },
   "file_extension": ".py",
   "mimetype": "text/x-python",
   "name": "python",
   "nbconvert_exporter": "python",
   "pygments_lexer": "ipython3",
   "version": "3.9.7"
  }
 },
 "nbformat": 4,
 "nbformat_minor": 5
}
